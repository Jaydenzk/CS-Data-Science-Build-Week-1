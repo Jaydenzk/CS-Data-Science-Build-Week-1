{
  "nbformat": 4,
  "nbformat_minor": 0,
  "metadata": {
    "colab": {
      "name": "Post-here-subreddit.ipynb",
      "provenance": [],
      "collapsed_sections": []
    },
    "kernelspec": {
      "name": "python3",
      "display_name": "Python 3"
    }
  },
  "cells": [
    {
      "cell_type": "code",
      "metadata": {
        "id": "2Tra1zum9i40",
        "colab_type": "code",
        "outputId": "151c33dc-6451-415e-b8f3-f25d6a5e5f89",
        "colab": {
          "base_uri": "https://localhost:8080/",
          "height": 53
        }
      },
      "source": [
        "import matplotlib.pyplot as plt\n",
        "import seaborn as sns\n",
        "import pandas as pd\n",
        "import numpy as np\n",
        "import requests\n",
        "import math"
      ],
      "execution_count": 0,
      "outputs": [
        {
          "output_type": "stream",
          "text": [
            "/usr/local/lib/python3.6/dist-packages/statsmodels/tools/_testing.py:19: FutureWarning: pandas.util.testing is deprecated. Use the functions in the public API at pandas.testing instead.\n",
            "  import pandas.util.testing as tm\n"
          ],
          "name": "stderr"
        }
      ]
    },
    {
      "cell_type": "code",
      "metadata": {
        "id": "gCOPameQMlcq",
        "colab_type": "code",
        "colab": {}
      },
      "source": [
        "from scipy.stats import zscore\n",
        "from sklearn.feature_extraction.text import TfidfVectorizer\n",
        "from sklearn.linear_model import LogisticRegression\n",
        "from sklearn.model_selection import train_test_split, cross_val_score\n",
        "from sklearn.naive_bayes import MultinomialNB\n",
        "from sklearn.metrics import confusion_matrix\n",
        "from sklearn.pipeline import make_pipeline"
      ],
      "execution_count": 0,
      "outputs": []
    },
    {
      "cell_type": "code",
      "metadata": {
        "id": "SXpbBONi9sDU",
        "colab_type": "code",
        "outputId": "d1cdb2a8-106a-4a0c-8932-5f813c9bd675",
        "colab": {
          "base_uri": "https://localhost:8080/",
          "height": 53
        }
      },
      "source": [
        "## code for call reddit API from one of reddit post\n",
        "\n",
        "PAGE_COUNT = 5\n",
        "RANDOM_STATE = 0\n",
        "TEST_SIZE = 0.25\n",
        "\n",
        "def get_reddit_data(page_count):\n",
        "    print('fetching your data, * = 1 request to the Reddit API')\n",
        "    headers = {'User-Agent': 'Predicting Reddit Post Metadata'}\n",
        "    posts = []\n",
        "    top_subreddits = [ 'r/funny', 'r/gaming', 'r/pics',\n",
        "            'r/aww', 'r/science', 'r/worldnews', 'r/Music',\n",
        "            'r/movies', 'r/todayilearned', 'r/videos'\n",
        "    ]\n",
        "    for i in range(len(top_subreddits)):\n",
        "        after = ''\n",
        "        for j in range(page_count):\n",
        "            print('*', end='')\n",
        "            url = 'https://www.reddit.com/'+ top_subreddits[i] + '/top.json?t=all&after=' + after\n",
        "            #print(url)\n",
        "            response = requests.get(url, headers=headers)    \n",
        "            for k in range(len(response.json()['data']['children'])):\n",
        "                post = {}\n",
        "                post['created_utc'] = int(response.json()['data']['children'][k]['data']['created_utc'])\n",
        "                post['is_video'] = int(response.json()['data']['children'][k]['data']['is_video'])\n",
        "                post['subreddit'] = response.json()['data']['children'][k]['data']['subreddit']\n",
        "                post['title'] = response.json()['data']['children'][k]['data']['title']\n",
        "                post['total_awards_received'] = response.json()['data']['children'][k]['data']['total_awards_received']\n",
        "                post['ups'] = response.json()['data']['children'][k]['data']['ups']\n",
        "                posts.append(post)\n",
        "            after = response.json()['data']['after']    \n",
        "    return posts\n",
        "\n",
        "columns = ['created_utc', 'is_video', 'subreddit', 'title', 'total_awards_received', 'ups']\n",
        "df = pd.DataFrame(get_reddit_data(PAGE_COUNT), columns=columns)\n",
        "df = df.sample(frac=1, random_state=RANDOM_STATE)"
      ],
      "execution_count": 0,
      "outputs": [
        {
          "output_type": "stream",
          "text": [
            "fetching your data, * = 1 request to the Reddit API\n",
            "**************************************************"
          ],
          "name": "stdout"
        }
      ]
    },
    {
      "cell_type": "code",
      "metadata": {
        "id": "aoJvuoLQ9sB5",
        "colab_type": "code",
        "outputId": "3f406461-2986-4b16-e069-0a2deeb8001f",
        "colab": {
          "base_uri": "https://localhost:8080/",
          "height": 917
        }
      },
      "source": [
        "print('df.Describe():\\n', df.describe(), '\\n')\n",
        "print(df.info(), '\\n')\n",
        "print('df.head(10):\\n', df.head(10), '\\n')\n",
        "print('SUM OF NA VALUES:\\n', df.isna().sum(), '\\n')"
      ],
      "execution_count": 0,
      "outputs": [
        {
          "output_type": "stream",
          "text": [
            "df.Describe():\n",
            "         created_utc     is_video  total_awards_received            ups\n",
            "count  1.250000e+03  1250.000000            1250.000000    1250.000000\n",
            "mean   1.543572e+09     0.070400              11.338400  115126.575200\n",
            "std    3.164753e+07     0.255922              35.943264   42644.825878\n",
            "min    1.407798e+09     0.000000               0.000000   36094.000000\n",
            "25%    1.517517e+09     0.000000               1.000000   79495.000000\n",
            "50%    1.546135e+09     0.000000               3.000000  115756.500000\n",
            "75%    1.571157e+09     0.000000              10.000000  142495.500000\n",
            "max    1.590590e+09     1.000000             571.000000  349296.000000 \n",
            "\n",
            "<class 'pandas.core.frame.DataFrame'>\n",
            "Int64Index: 1250 entries, 711 to 684\n",
            "Data columns (total 6 columns):\n",
            " #   Column                 Non-Null Count  Dtype \n",
            "---  ------                 --------------  ----- \n",
            " 0   created_utc            1250 non-null   int64 \n",
            " 1   is_video               1250 non-null   int64 \n",
            " 2   subreddit              1250 non-null   object\n",
            " 3   title                  1250 non-null   object\n",
            " 4   total_awards_received  1250 non-null   int64 \n",
            " 5   ups                    1250 non-null   int64 \n",
            "dtypes: int64(4), object(2)\n",
            "memory usage: 68.4+ KB\n",
            "None \n",
            "\n",
            "df.head(10):\n",
            "       created_utc  is_video  ... total_awards_received     ups\n",
            "711    1582481896         0  ...                     9  105738\n",
            "898    1482861138         0  ...                     0   96676\n",
            "186    1549472005         0  ...                     7  131843\n",
            "867    1512818266         0  ...                     0   37232\n",
            "18     1584351834         0  ...                    23  181365\n",
            "1152   1508344968         0  ...                     0  103446\n",
            "192    1479762343         0  ...                     0  129572\n",
            "184    1541259394         0  ...                    31  132207\n",
            "824    1461865025         0  ...                     0   45483\n",
            "1058   1580918506         0  ...                     0  108199\n",
            "\n",
            "[10 rows x 6 columns] \n",
            "\n",
            "SUM OF NA VALUES:\n",
            " created_utc              0\n",
            "is_video                 0\n",
            "subreddit                0\n",
            "title                    0\n",
            "total_awards_received    0\n",
            "ups                      0\n",
            "dtype: int64 \n",
            "\n"
          ],
          "name": "stdout"
        }
      ]
    },
    {
      "cell_type": "code",
      "metadata": {
        "id": "LDoT5U5m9r_2",
        "colab_type": "code",
        "outputId": "b225a7ba-c8d5-4c14-c730-19e6a17ce81b",
        "colab": {
          "base_uri": "https://localhost:8080/",
          "height": 204
        }
      },
      "source": [
        "df.head()"
      ],
      "execution_count": 0,
      "outputs": [
        {
          "output_type": "execute_result",
          "data": {
            "text/html": [
              "<div>\n",
              "<style scoped>\n",
              "    .dataframe tbody tr th:only-of-type {\n",
              "        vertical-align: middle;\n",
              "    }\n",
              "\n",
              "    .dataframe tbody tr th {\n",
              "        vertical-align: top;\n",
              "    }\n",
              "\n",
              "    .dataframe thead th {\n",
              "        text-align: right;\n",
              "    }\n",
              "</style>\n",
              "<table border=\"1\" class=\"dataframe\">\n",
              "  <thead>\n",
              "    <tr style=\"text-align: right;\">\n",
              "      <th></th>\n",
              "      <th>created_utc</th>\n",
              "      <th>is_video</th>\n",
              "      <th>subreddit</th>\n",
              "      <th>title</th>\n",
              "      <th>total_awards_received</th>\n",
              "      <th>ups</th>\n",
              "    </tr>\n",
              "  </thead>\n",
              "  <tbody>\n",
              "    <tr>\n",
              "      <th>711</th>\n",
              "      <td>1582481896</td>\n",
              "      <td>0</td>\n",
              "      <td>worldnews</td>\n",
              "      <td>The family of a British teenager killed in a r...</td>\n",
              "      <td>9</td>\n",
              "      <td>105738</td>\n",
              "    </tr>\n",
              "    <tr>\n",
              "      <th>898</th>\n",
              "      <td>1482861138</td>\n",
              "      <td>0</td>\n",
              "      <td>movies</td>\n",
              "      <td>Carrie Fisher dead at age 60</td>\n",
              "      <td>0</td>\n",
              "      <td>96676</td>\n",
              "    </tr>\n",
              "    <tr>\n",
              "      <th>186</th>\n",
              "      <td>1549472005</td>\n",
              "      <td>0</td>\n",
              "      <td>gaming</td>\n",
              "      <td>Chess counts, right?</td>\n",
              "      <td>7</td>\n",
              "      <td>131843</td>\n",
              "    </tr>\n",
              "    <tr>\n",
              "      <th>867</th>\n",
              "      <td>1512818266</td>\n",
              "      <td>0</td>\n",
              "      <td>Music</td>\n",
              "      <td>Steven Tyler opens home for abused girls</td>\n",
              "      <td>0</td>\n",
              "      <td>37232</td>\n",
              "    </tr>\n",
              "    <tr>\n",
              "      <th>18</th>\n",
              "      <td>1584351834</td>\n",
              "      <td>0</td>\n",
              "      <td>funny</td>\n",
              "      <td>Experts recommend keeping your daily rituals e...</td>\n",
              "      <td>23</td>\n",
              "      <td>181365</td>\n",
              "    </tr>\n",
              "  </tbody>\n",
              "</table>\n",
              "</div>"
            ],
            "text/plain": [
              "     created_utc  is_video  ... total_awards_received     ups\n",
              "711   1582481896         0  ...                     9  105738\n",
              "898   1482861138         0  ...                     0   96676\n",
              "186   1549472005         0  ...                     7  131843\n",
              "867   1512818266         0  ...                     0   37232\n",
              "18    1584351834         0  ...                    23  181365\n",
              "\n",
              "[5 rows x 6 columns]"
            ]
          },
          "metadata": {
            "tags": []
          },
          "execution_count": 6
        }
      ]
    },
    {
      "cell_type": "code",
      "metadata": {
        "id": "7AmuirK0B9yL",
        "colab_type": "code",
        "colab": {}
      },
      "source": [
        "X = df['title'].values\n",
        "y = df['subreddit'].values\n",
        "X_train, X_test, y_train, y_test = train_test_split(X, y, test_size=TEST_SIZE, random_state=0)"
      ],
      "execution_count": 0,
      "outputs": []
    },
    {
      "cell_type": "code",
      "metadata": {
        "id": "iKqkZbztK76D",
        "colab_type": "code",
        "outputId": "390ada28-ceb7-46a9-f833-d1ea7273b167",
        "colab": {
          "base_uri": "https://localhost:8080/",
          "height": 35
        }
      },
      "source": [
        "X_train.shape, X_test.shape, y_train.shape, y_test.shape"
      ],
      "execution_count": 0,
      "outputs": [
        {
          "output_type": "execute_result",
          "data": {
            "text/plain": [
              "((937,), (313,), (937,), (313,))"
            ]
          },
          "metadata": {
            "tags": []
          },
          "execution_count": 8
        }
      ]
    },
    {
      "cell_type": "code",
      "metadata": {
        "id": "tnKmeNwgB9rl",
        "colab_type": "code",
        "outputId": "f4b9ae8a-9924-4088-e4f1-aa94cd44e542",
        "colab": {
          "base_uri": "https://localhost:8080/",
          "height": 323
        }
      },
      "source": [
        "model = make_pipeline(TfidfVectorizer(), MultinomialNB())\n",
        "model.fit(X_train, y_train)"
      ],
      "execution_count": 0,
      "outputs": [
        {
          "output_type": "execute_result",
          "data": {
            "text/plain": [
              "Pipeline(memory=None,\n",
              "         steps=[('tfidfvectorizer',\n",
              "                 TfidfVectorizer(analyzer='word', binary=False,\n",
              "                                 decode_error='strict',\n",
              "                                 dtype=<class 'numpy.float64'>,\n",
              "                                 encoding='utf-8', input='content',\n",
              "                                 lowercase=True, max_df=1.0, max_features=None,\n",
              "                                 min_df=1, ngram_range=(1, 1), norm='l2',\n",
              "                                 preprocessor=None, smooth_idf=True,\n",
              "                                 stop_words=None, strip_accents=None,\n",
              "                                 sublinear_tf=False,\n",
              "                                 token_pattern='(?u)\\\\b\\\\w\\\\w+\\\\b',\n",
              "                                 tokenizer=None, use_idf=True,\n",
              "                                 vocabulary=None)),\n",
              "                ('multinomialnb',\n",
              "                 MultinomialNB(alpha=1.0, class_prior=None, fit_prior=True))],\n",
              "         verbose=False)"
            ]
          },
          "metadata": {
            "tags": []
          },
          "execution_count": 9
        }
      ]
    },
    {
      "cell_type": "code",
      "metadata": {
        "id": "8s-VQqYBB9pw",
        "colab_type": "code",
        "colab": {}
      },
      "source": [
        "y_predict = model.predict(X_test)\n",
        "accuracy = (y_predict == y_test).mean()\n",
        "baseline = pd.Series(y_test).value_counts()[0] / pd.Series(y_test).value_counts().sum()\n",
        "prediction_count = pd.Series(y_test).value_counts().sum()"
      ],
      "execution_count": 0,
      "outputs": []
    },
    {
      "cell_type": "code",
      "metadata": {
        "id": "ho_vyP9aB9oC",
        "colab_type": "code",
        "outputId": "e2b148b6-7176-468b-860f-8522c6596f02",
        "colab": {
          "base_uri": "https://localhost:8080/",
          "height": 791
        }
      },
      "source": [
        "print('VC of y_train')\n",
        "print(pd.Series(y_train).value_counts()[:10], '\\n')\n",
        "print('VC of y_test')\n",
        "print(pd.Series(y_test).value_counts()[:10], '\\n')\n",
        "print('VC of y_predict')\n",
        "print(pd.Series(y_predict).value_counts()[:10], '\\n')\n",
        "print('# PRDCTN: ', prediction_count)\n",
        "print('BASELINE: ', baseline)\n",
        "print('ACCURACY: ', accuracy)\n",
        "print(len(y_test), len(y_predict))       "
      ],
      "execution_count": 17,
      "outputs": [
        {
          "output_type": "stream",
          "text": [
            "VC of y_train\n",
            "pics             99\n",
            "movies           99\n",
            "videos           97\n",
            "Music            97\n",
            "gaming           95\n",
            "worldnews        94\n",
            "aww              92\n",
            "todayilearned    91\n",
            "science          88\n",
            "funny            85\n",
            "dtype: int64 \n",
            "\n",
            "VC of y_test\n",
            "funny            40\n",
            "science          37\n",
            "todayilearned    34\n",
            "aww              33\n",
            "worldnews        31\n",
            "gaming           30\n",
            "Music            28\n",
            "videos           28\n",
            "pics             26\n",
            "movies           26\n",
            "dtype: int64 \n",
            "\n",
            "VC of y_predict\n",
            "todayilearned    74\n",
            "pics             50\n",
            "science          47\n",
            "aww              35\n",
            "movies           35\n",
            "Music            21\n",
            "worldnews        21\n",
            "gaming           16\n",
            "videos           11\n",
            "funny             3\n",
            "dtype: int64 \n",
            "\n",
            "# PRDCTN:  313\n",
            "BASELINE:  0.12779552715654952\n",
            "ACCURACY:  0.5175718849840255\n",
            "313 313\n"
          ],
          "name": "stdout"
        }
      ]
    },
    {
      "cell_type": "code",
      "metadata": {
        "id": "Ac569w189r4U",
        "colab_type": "code",
        "colab": {}
      },
      "source": [
        "import pickle"
      ],
      "execution_count": 0,
      "outputs": []
    },
    {
      "cell_type": "code",
      "metadata": {
        "id": "P79geSl69r2p",
        "colab_type": "code",
        "colab": {}
      },
      "source": [
        "pickle.dump(model, open( \"model.pkl\", \"wb\" ) )"
      ],
      "execution_count": 0,
      "outputs": []
    },
    {
      "cell_type": "code",
      "metadata": {
        "id": "8L5LA8gY2cyZ",
        "colab_type": "code",
        "colab": {}
      },
      "source": [
        "def reddit(inputs):\n",
        "    model = pickle.load(open(\"/content/model.pkl\", \"rb\"))\n",
        "    return model.predict([inputs])[0]"
      ],
      "execution_count": 0,
      "outputs": []
    },
    {
      "cell_type": "code",
      "metadata": {
        "id": "vmPy9OOU9rlN",
        "colab_type": "code",
        "colab": {
          "base_uri": "https://localhost:8080/",
          "height": 35
        },
        "outputId": "41bad424-181c-4b70-b962-c41b7b8e5431"
      },
      "source": [
        "reddit('You shall not pass here')"
      ],
      "execution_count": 45,
      "outputs": [
        {
          "output_type": "execute_result",
          "data": {
            "text/plain": [
              "'gaming'"
            ]
          },
          "metadata": {
            "tags": []
          },
          "execution_count": 45
        }
      ]
    }
  ]
}